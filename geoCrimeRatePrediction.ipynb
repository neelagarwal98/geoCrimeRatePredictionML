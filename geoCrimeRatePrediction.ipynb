{
 "cells": [
  {
   "cell_type": "code",
   "execution_count": 1,
   "metadata": {},
   "outputs": [
    {
     "name": "stdout",
     "output_type": "stream",
     "text": [
      "Samples= 878049\n",
      "Features= 4\n"
     ]
    },
    {
     "name": "stderr",
     "output_type": "stream",
     "text": [
      "C:\\ProgramData\\Anaconda3\\lib\\site-packages\\IPython\\core\\interactiveshell.py:2785: DtypeWarning: Columns (3,4) have mixed types. Specify dtype option on import or set low_memory=False.\n",
      "  interactivity=interactivity, compiler=compiler, result=result)\n"
     ]
    }
   ],
   "source": [
    "#geographical crime rate prediction \n",
    "\n",
    "# for crime rate prediction in accordance to geological location, a dataset that contains information for crimes reported in San\n",
    "# Francisco from 2003 to 2015 from which certain features were taken like Category(type) of crime,Day Of week, X-latitude of location, Y-longitude\n",
    "# of location and PdDistrict was used as the target for prediction\n",
    "\n",
    "# please note that from the original dataset few columns, including description, address, were discarded in the modified csv file as the textual \n",
    "# had no role to play for geographical crime rate prediction, as in the original research conducted many other parameters such as date, time,etc \n",
    "# were used, however for simplicity of this project only a minimum number of columns have been taken and location of police district(PdDistrict)\n",
    "# has been considered as the target \n",
    "\n",
    "\n",
    "####################################################Loading the data##########################################################################\n",
    "import pandas as pd # pandas imported for dataframes \n",
    "df = pd.read_csv('sfCrimeData.csv',header=None) # dataset loaded\n",
    "df.columns = ['Category','DayOfWeek','PdDistrict','X','Y'] # dataframe created \n",
    "\n",
    "df = df.drop([0],axis=0) #since the first row as column name is interfering as part of data, it is dropped\n",
    "df = df.reset_index(drop=True) #the index is reset to start from 0\n",
    "\n",
    "print('Samples=',df.shape[0]) # prints the number of samples(rows)\n",
    "print('Features=',df.shape[1]-1) # prints the number of features(columns excluding the target)\n"
   ]
  },
  {
   "cell_type": "code",
   "execution_count": 2,
   "metadata": {},
   "outputs": [
    {
     "name": "stdout",
     "output_type": "stream",
     "text": [
      "Category      0\n",
      "DayOfWeek     0\n",
      "PdDistrict    0\n",
      "X             0\n",
      "Y             0\n",
      "dtype: int64\n"
     ]
    }
   ],
   "source": [
    "print(df.isnull().sum()) # the dataframe is checked for null values, however no action taken as none were found"
   ]
  },
  {
   "cell_type": "code",
   "execution_count": 3,
   "metadata": {},
   "outputs": [
    {
     "name": "stdout",
     "output_type": "stream",
     "text": [
      "classes =  ['NORTHERN' 'PARK' 'INGLESIDE' 'BAYVIEW' 'RICHMOND' 'CENTRAL' 'TARAVAL'\n",
      " 'TENDERLOIN' 'MISSION' 'SOUTHERN']\n"
     ]
    }
   ],
   "source": [
    "print('classes = ',df['PdDistrict'].unique())\n",
    "#Different locations (police districts) in San Francisco according to which geographical crime rate has to be predicted"
   ]
  },
  {
   "cell_type": "code",
   "execution_count": 4,
   "metadata": {},
   "outputs": [
    {
     "name": "stdout",
     "output_type": "stream",
     "text": [
      "Total number of classes= 10\n"
     ]
    }
   ],
   "source": [
    "print('Total number of classes=',len(df['PdDistrict'].unique())) # the total number of unique police districts present in the target"
   ]
  },
  {
   "cell_type": "code",
   "execution_count": 5,
   "metadata": {},
   "outputs": [
    {
     "name": "stdout",
     "output_type": "stream",
     "text": [
      "SOUTHERN      157182\n",
      "MISSION       119908\n",
      "NORTHERN      105296\n",
      "BAYVIEW        89431\n",
      "CENTRAL        85460\n",
      "TENDERLOIN     81809\n",
      "INGLESIDE      78845\n",
      "TARAVAL        65596\n",
      "PARK           49313\n",
      "RICHMOND       45209\n",
      "Name: PdDistrict, dtype: int64\n"
     ]
    }
   ],
   "source": [
    "print(df['PdDistrict'].value_counts()) # count of each individual police district in the dataset"
   ]
  },
  {
   "cell_type": "code",
   "execution_count": 6,
   "metadata": {},
   "outputs": [],
   "source": [
    "################################################### Data pre-processing #######################################\n",
    "#################### Before pre-processing using label encoder it is being displayed the frequency of different types of crime #################\n",
    "from sklearn.preprocessing import LabelEncoder  \n",
    "le = LabelEncoder()\n",
    "category_le = le.fit_transform(df['Category'].values)\n",
    "df1 = pd.DataFrame({'Category_LE':category_le})\n",
    "#print(df1)"
   ]
  },
  {
   "cell_type": "code",
   "execution_count": 7,
   "metadata": {},
   "outputs": [
    {
     "name": "stdout",
     "output_type": "stream",
     "text": [
      "        Category_LE                Category\n",
      "0                37                WARRANTS\n",
      "1                21          OTHER OFFENSES\n",
      "2                21          OTHER OFFENSES\n",
      "3                16           LARCENY/THEFT\n",
      "4                16           LARCENY/THEFT\n",
      "5                16           LARCENY/THEFT\n",
      "6                36           VEHICLE THEFT\n",
      "7                36           VEHICLE THEFT\n",
      "8                16           LARCENY/THEFT\n",
      "9                16           LARCENY/THEFT\n",
      "10               16           LARCENY/THEFT\n",
      "11               21          OTHER OFFENSES\n",
      "12               35               VANDALISM\n",
      "13               16           LARCENY/THEFT\n",
      "14               20            NON-CRIMINAL\n",
      "15               20            NON-CRIMINAL\n",
      "16               25                 ROBBERY\n",
      "17                1                 ASSAULT\n",
      "18               21          OTHER OFFENSES\n",
      "19               20            NON-CRIMINAL\n",
      "20               16           LARCENY/THEFT\n",
      "21               25                 ROBBERY\n",
      "22               37                WARRANTS\n",
      "23               20            NON-CRIMINAL\n",
      "24               16           LARCENY/THEFT\n",
      "25               20            NON-CRIMINAL\n",
      "26               16           LARCENY/THEFT\n",
      "27               16           LARCENY/THEFT\n",
      "28               16           LARCENY/THEFT\n",
      "29               21          OTHER OFFENSES\n",
      "...             ...                     ...\n",
      "878019           21          OTHER OFFENSES\n",
      "878020           21          OTHER OFFENSES\n",
      "878021           35               VANDALISM\n",
      "878022           36           VEHICLE THEFT\n",
      "878023           16           LARCENY/THEFT\n",
      "878024           21          OTHER OFFENSES\n",
      "878025           21          OTHER OFFENSES\n",
      "878026           37                WARRANTS\n",
      "878027           37                WARRANTS\n",
      "878028            1                 ASSAULT\n",
      "878029           21          OTHER OFFENSES\n",
      "878030           28   SEX OFFENSES FORCIBLE\n",
      "878031            1                 ASSAULT\n",
      "878032           21          OTHER OFFENSES\n",
      "878033           35               VANDALISM\n",
      "878034           34                TRESPASS\n",
      "878035            1                 ASSAULT\n",
      "878036           16           LARCENY/THEFT\n",
      "878037           35               VANDALISM\n",
      "878038           37                WARRANTS\n",
      "878039           21          OTHER OFFENSES\n",
      "878040            1                 ASSAULT\n",
      "878041           21          OTHER OFFENSES\n",
      "878042            1                 ASSAULT\n",
      "878043           21          OTHER OFFENSES\n",
      "878044           25                 ROBBERY\n",
      "878045           16           LARCENY/THEFT\n",
      "878046           16           LARCENY/THEFT\n",
      "878047           35               VANDALISM\n",
      "878048           12  FORGERY/COUNTERFEITING\n",
      "\n",
      "[878049 rows x 2 columns]\n"
     ]
    }
   ],
   "source": [
    "from matplotlib import pyplot as plt\n",
    "df_Category_le_index = pd.concat([df1['Category_LE'],df['Category']],axis=1)\n",
    "print(df_Category_le_index) # for showing as an index for the bar plot later which depicts the frequency of different types of crimes "
   ]
  },
  {
   "cell_type": "code",
   "execution_count": 8,
   "metadata": {},
   "outputs": [
    {
     "data": {
      "image/png": "[encoded data removed]",
      "text/plain": [
       "<Figure size 432x288 with 1 Axes>"
      ]
     },
     "metadata": {
      "needs_background": "light"
     },
     "output_type": "display_data"
    },
    {
     "data": {
      "text/plain": [
       "<Figure size 720x720 with 0 Axes>"
      ]
     },
     "metadata": {},
     "output_type": "display_data"
    }
   ],
   "source": [
    "plt.bar(df1['Category_LE'].unique(),df1['Category_LE'].value_counts(),width = 0.8,facecolor = 'b',edgecolor = 'g' ) \n",
    "plt.xticks(df1['Category_LE'].unique(),rotation=90) #for marking the x-axis caliberation with label encoded Category\n",
    "plt.xlabel('Types of Crimes(label encoded)')\n",
    "plt.ylabel('Frequency of crimes')\n",
    "plt.figure(figsize = (10,10))\n",
    "plt.show()  # a bar plot showing the frequency of crimes for different categories"
   ]
  },
  {
   "cell_type": "code",
   "execution_count": 9,
   "metadata": {},
   "outputs": [
    {
     "name": "stdout",
     "output_type": "stream",
     "text": [
      "(878049, 10)\n",
      "(878049,)\n"
     ]
    }
   ],
   "source": [
    "# Data pre - processing continued\n",
    "#one-hot encoding for the DayOfWeek column without using sklearn \n",
    "df2 = pd.get_dummies(df['DayOfWeek'],prefix='DayOfWeek') \n",
    "#print(df2)\n",
    "\n",
    "target = le.fit_transform(df['PdDistrict'].values) #label encoding being done for target column as the existing data is textual and not numeric\n",
    "df3 = pd.DataFrame({'Target_PdDistrict':target})\n",
    "#print(df3)\n",
    "\n",
    "df_inter1 = pd.concat([df1,df2],axis = 1);\n",
    "df_inter2 = pd.concat([df_inter1,df3],axis=1);\n",
    "df_final = pd.concat([df_inter2,df[['X','Y']]],axis=1) # final dataset\n",
    "#print(df_final) \n",
    "# all data has been to processed to numerical form\n",
    "\n",
    "x = df_final[['Category_LE','DayOfWeek_Friday','DayOfWeek_Monday','DayOfWeek_Saturday',\n",
    "              'DayOfWeek_Sunday','DayOfWeek_Thursday','DayOfWeek_Tuesday','DayOfWeek_Wednesday','X','Y']] #final set of features dataframe x\n",
    "y = df_final['Target_PdDistrict'] # final target dataframe y\n",
    "print(x.shape)\n",
    "print(y.shape)"
   ]
  },
  {
   "cell_type": "code",
   "execution_count": 10,
   "metadata": {},
   "outputs": [
    {
     "name": "stdout",
     "output_type": "stream",
     "text": [
      "----------------Standarization----------------\n",
      "[[ 1.65234558 -0.42387962 -0.40090714 ...  2.40737748 -0.10790296\n",
      "   0.00783182]\n",
      " [ 0.15542801 -0.42387962 -0.40090714 ...  2.40737748 -0.10790296\n",
      "   0.00783182]\n",
      " [ 0.15542801 -0.42387962 -0.40090714 ...  2.40737748 -0.05753992\n",
      "   0.06433461]\n",
      " ...\n",
      " [-0.31235872 -0.42387962  2.49434319 ... -0.41538978  0.6334027\n",
      "   0.02023512]\n",
      " [ 1.46523088 -0.42387962  2.49434319 ... -0.41538978  1.05704265\n",
      "   0.02098256]\n",
      " [-0.68658811 -0.42387962  2.49434319 ... -0.41538978  0.91227237\n",
      "  -0.07180843]]\n"
     ]
    }
   ],
   "source": [
    "########################################## Standardistion #####################################################\n",
    "\n",
    "# standardisation is done to balance the data standardise it according to deviation\n",
    "# instead of standardisation, normalisation can also be done, one of them can be chosen, here standardisation has been used\n",
    "print('----------------Standarization----------------')\n",
    "from sklearn.preprocessing import StandardScaler\n",
    "sc=StandardScaler()\n",
    "X_std=sc.fit_transform(x)\n",
    "print(X_std)\n",
    "# X_std is now the standardised data\n",
    "\n",
    "#print('----------------Normalization----------------')\n",
    "#from sklearn.preprocessing import MinMaxScaler\n",
    "#mms=MinMaxScaler()\n",
    "#X_norm=mms.fit_transform(x)\n",
    "#print(X_norm)\n"
   ]
  },
  {
   "cell_type": "code",
   "execution_count": 11,
   "metadata": {},
   "outputs": [
    {
     "name": "stdout",
     "output_type": "stream",
     "text": [
      "--------------Train size:70%, Test Size: 30%-----\n"
     ]
    }
   ],
   "source": [
    "################################ Training data and testing data split ############################################ \n",
    "# the standardised data is now split into training and testing data, here for training 70% is being used and 30% for testing purpose\n",
    "print('--------------Train size:70%, Test Size: 30%-----')\n",
    "from sklearn.model_selection import train_test_split\n",
    "(x_train,x_test,y_train,y_test)=train_test_split(X_std,\n",
    "                    y,test_size=0.3,random_state=123)\n"
   ]
  },
  {
   "cell_type": "code",
   "execution_count": 12,
   "metadata": {},
   "outputs": [
    {
     "name": "stderr",
     "output_type": "stream",
     "text": [
      "C:\\ProgramData\\Anaconda3\\lib\\site-packages\\sklearn\\linear_model\\stochastic_gradient.py:128: FutureWarning: max_iter and tol parameters have been added in <class 'sklearn.linear_model.perceptron.Perceptron'> in 0.19. If both are left unset, they default to max_iter=5 and tol=None. If tol is not None, max_iter defaults to max_iter=1000. From 0.21, default max_iter will be 1000, and default tol will be 1e-3.\n",
      "  \"and default tol will be 1e-3.\" % type(self), FutureWarning)\n"
     ]
    },
    {
     "name": "stdout",
     "output_type": "stream",
     "text": [
      "From Perceptron strategy\n",
      "Accuracy score: 0.2926826490518763\n",
      "Classification report              precision    recall  f1-score   support\n",
      "\n",
      "          0       0.77      0.57      0.65     26955\n",
      "          1       0.27      0.12      0.17     25551\n",
      "          2       0.54      0.35      0.42     23679\n",
      "          3       0.23      0.21      0.22     36002\n",
      "          4       0.21      0.24      0.22     31492\n",
      "          5       0.14      0.23      0.17     14865\n",
      "          6       0.70      0.03      0.06     13416\n",
      "          7       0.43      0.13      0.20     47111\n",
      "          8       0.56      0.68      0.62     19673\n",
      "          9       0.14      0.49      0.22     24671\n",
      "\n",
      "avg / total       0.39      0.29      0.29    263415\n",
      "\n",
      "Confusion matrix [[15257    46   742  2556  1166  1186     1  1157    23  4821]\n",
      " [  450  3080     1  2885  3862   730     0  3964     0 10579]\n",
      " [   62     0  8176  3287  2778  2825     0     8  2493  4050]\n",
      " [  195   213  1277  7533  5082  6034     0   268    53 15347]\n",
      " [    0  2181   235  4633  7424  2887     1   391    14 13726]\n",
      " [   30     1   638  1645  2938  3410     0     3  1701  4499]\n",
      " [   24     2   280   581  2638  1501   455     7  6069  1859]\n",
      " [ 3565  4023    92  5965  4708  3476     0  6257    10 19015]\n",
      " [    0     0  3640    37  1429   730   196     1 13403   237]\n",
      " [  214  1655     2  3477  3206  1549     0  2465     1 12102]]\n"
     ]
    }
   ],
   "source": [
    "############################################ Different strategies for classifying data, implementation of various models ####################\n",
    "#Perceptron\n",
    "from sklearn.linear_model import Perceptron\n",
    "ppn = Perceptron(eta0=0.01,random_state=0)\n",
    "ppn.fit(x_train,y_train)\n",
    "y_pred_ppn = ppn.predict(x_test)\n",
    "\n",
    "from sklearn.metrics import accuracy_score\n",
    "acc_ppn = accuracy_score(y_test,y_pred_ppn)\n",
    "\n",
    "from sklearn.metrics import classification_report\n",
    "cr_ppn = classification_report(y_test,y_pred_ppn)\n",
    "\n",
    "from sklearn.metrics import confusion_matrix\n",
    "cm_ppn = confusion_matrix(y_test,y_pred_ppn)\n",
    "\n",
    "\n",
    "print('From Perceptron strategy');\n",
    "print('Accuracy score:',acc_ppn)\n",
    "print('Classification report',cr_ppn)\n",
    "print('Confusion matrix',cm_ppn)"
   ]
  },
  {
   "cell_type": "code",
   "execution_count": 13,
   "metadata": {},
   "outputs": [
    {
     "name": "stdout",
     "output_type": "stream",
     "text": [
      "From Logistic Regression strategy\n",
      "Accuracy score: 0.40434295693107836\n",
      "Classification report              precision    recall  f1-score   support\n",
      "\n",
      "          0       0.79      0.66      0.72     26955\n",
      "          1       0.00      0.00      0.00     25551\n",
      "          2       0.94      0.22      0.35     23679\n",
      "          3       0.32      0.34      0.33     36002\n",
      "          4       0.38      0.33      0.35     31492\n",
      "          5       0.00      0.00      0.00     14865\n",
      "          6       0.00      0.00      0.00     13416\n",
      "          7       0.31      0.88      0.46     47111\n",
      "          8       0.55      0.99      0.71     19673\n",
      "          9       0.00      0.00      0.00     24671\n",
      "\n",
      "avg / total       0.35      0.40      0.33    263415\n",
      "\n",
      "Confusion matrix [[17916     0     4    44     4     0     0  8951    36     0]\n",
      " [  135     0     0   595   125     0     0 24696     0     0]\n",
      " [   57     0  5130  8728  1476     0     0  6751  1537     0]\n",
      " [    0     0    65 12130  2291     0     0 21511     5     0]\n",
      " [    0     0     0 14352 10399     0     0  6709    32     0]\n",
      " [   30     0    46   752 10559     0     0    19  3459     0]\n",
      " [   28     0     0     9  2730     0     0     3 10646     0]\n",
      " [ 4471     0    13  1083    23     0     0 41520     1     0]\n",
      " [    0     0   218     1    35     0     0     4 19415     0]\n",
      " [    3     0     0    17     3     0     0 24646     2     0]]\n"
     ]
    },
    {
     "name": "stderr",
     "output_type": "stream",
     "text": [
      "C:\\ProgramData\\Anaconda3\\lib\\site-packages\\sklearn\\metrics\\classification.py:1135: UndefinedMetricWarning: Precision and F-score are ill-defined and being set to 0.0 in labels with no predicted samples.\n",
      "  'precision', 'predicted', average, warn_for)\n"
     ]
    }
   ],
   "source": [
    "#logisticRegression\n",
    "from sklearn.linear_model import LogisticRegression\n",
    "lr = LogisticRegression(C=.001,penalty='l2')\n",
    "lr.fit(x_train,y_train)\n",
    "y_pred_lr = lr.predict(x_test)\n",
    "\n",
    "from sklearn.metrics import accuracy_score\n",
    "acc_lr = accuracy_score(y_test,y_pred_lr)\n",
    "\n",
    "from sklearn.metrics import classification_report\n",
    "cr_lr = classification_report(y_test,y_pred_lr)\n",
    "\n",
    "from sklearn.metrics import confusion_matrix\n",
    "cm_lr = confusion_matrix(y_test,y_pred_lr)\n",
    "\n",
    "\n",
    "print('From Logistic Regression strategy');\n",
    "print('Accuracy score:',acc_lr)\n",
    "print('Classification report',cr_lr)\n",
    "print('Confusion matrix',cm_lr)\n",
    "\n"
   ]
  },
  {
   "cell_type": "code",
   "execution_count": 14,
   "metadata": {},
   "outputs": [
    {
     "name": "stdout",
     "output_type": "stream",
     "text": [
      "From Decision Tree Classifier strategy\n",
      "Accuracy score: 0.7058633714860582\n",
      "Classification report              precision    recall  f1-score   support\n",
      "\n",
      "          0       0.94      0.93      0.93     26955\n",
      "          1       0.82      0.87      0.84     25551\n",
      "          2       0.59      0.96      0.73     23679\n",
      "          3       0.72      0.98      0.83     36002\n",
      "          4       0.82      0.88      0.85     31492\n",
      "          5       0.00      0.00      0.00     14865\n",
      "          6       0.58      0.96      0.73     13416\n",
      "          7       0.60      0.85      0.71     47111\n",
      "          8       0.00      0.00      0.00     19673\n",
      "          9       0.00      0.00      0.00     24671\n",
      "\n",
      "avg / total       0.56      0.71      0.62    263415\n",
      "\n",
      "Confusion matrix [[25019    15  1716    20     3     0    27   155     0     0]\n",
      " [    1 22319     1     0  2346     0     1   883     0     0]\n",
      " [  931     2 22704    42     0     0     0     0     0     0]\n",
      " [  392     1   138 35414    54     0     0     3     0     0]\n",
      " [    0     5     0   552 27682     0  2412   841     0     0]\n",
      " [   29     1   208  6645  1180     0  6783    19     0     0]\n",
      " [    1    29     0   332   126     0 12927     1     0     0]\n",
      " [  215  4610    32   278  2105     0     1 39870     0     0]\n",
      " [    0     1 13443  6229     0     0     0     0     0     0]\n",
      " [    3   381     0     0    96     0     2 24189     0     0]]\n"
     ]
    },
    {
     "name": "stderr",
     "output_type": "stream",
     "text": [
      "C:\\ProgramData\\Anaconda3\\lib\\site-packages\\sklearn\\metrics\\classification.py:1135: UndefinedMetricWarning: Precision and F-score are ill-defined and being set to 0.0 in labels with no predicted samples.\n",
      "  'precision', 'predicted', average, warn_for)\n"
     ]
    }
   ],
   "source": [
    "#decisionTreeClassifier\n",
    "from sklearn.tree import DecisionTreeClassifier\n",
    "tree = DecisionTreeClassifier(max_depth=3,criterion='gini')\n",
    "tree.fit(x_train,y_train)\n",
    "y_pred_dtc = tree.predict(x_test)\n",
    "\n",
    "from sklearn.metrics import accuracy_score\n",
    "acc_dtc = accuracy_score(y_test,y_pred_dtc)\n",
    "\n",
    "from sklearn.metrics import classification_report\n",
    "cr_dtc = classification_report(y_test,y_pred_dtc)\n",
    "\n",
    "from sklearn.metrics import confusion_matrix\n",
    "cm_dtc = confusion_matrix(y_test,y_pred_dtc)\n",
    "\n",
    "print('From Decision Tree Classifier strategy');\n",
    "print('Accuracy score:',acc_dtc)\n",
    "print('Classification report',cr_dtc)\n",
    "print('Confusion matrix',cm_dtc)"
   ]
  },
  {
   "cell_type": "code",
   "execution_count": 15,
   "metadata": {},
   "outputs": [
    {
     "name": "stdout",
     "output_type": "stream",
     "text": [
      "From KNeighbours strategy\n",
      "Accuracy score: 0.9504584021411081\n",
      "Classification report              precision    recall  f1-score   support\n",
      "\n",
      "          0       0.95      0.98      0.97     26955\n",
      "          1       0.93      0.97      0.95     25551\n",
      "          2       0.93      0.94      0.93     23679\n",
      "          3       0.95      0.96      0.95     36002\n",
      "          4       0.95      0.96      0.95     31492\n",
      "          5       0.92      0.93      0.92     14865\n",
      "          6       0.94      0.91      0.92     13416\n",
      "          7       0.97      0.95      0.96     47111\n",
      "          8       0.98      0.94      0.96     19673\n",
      "          9       0.97      0.93      0.95     24671\n",
      "\n",
      "avg / total       0.95      0.95      0.95    263415\n",
      "\n",
      "Confusion matrix [[26495    12   259    52     5     8    16   102     3     3]\n",
      " [    7 24730     2     8   210     0     1   298     0   295]\n",
      " [  816     0 22223   371     3    52     0    11   203     0]\n",
      " [  121     8   756 34619   139   144     0   212     2     1]\n",
      " [   10   569     3   383 30106    59    78   152     0   132]\n",
      " [   40     0   194   496   137 13813   155    15    15     0]\n",
      " [   36     4     0     3   174   843 12182     1   173     0]\n",
      " [  216   808    15   669   462    12     3 44675     0   251]\n",
      " [   16     0   410    12     0   125   560     0 18550     0]\n",
      " [    8   584     0    11   362     6     2   726     0 22972]]\n"
     ]
    }
   ],
   "source": [
    "#kNeighbors Classifier\n",
    "from sklearn.neighbors import KNeighborsClassifier\n",
    "knn = KNeighborsClassifier(n_neighbors=2)\n",
    "knn.fit(x_train,y_train)\n",
    "y_pred_knn = knn.predict(x_test)\n",
    "\n",
    "from sklearn.metrics import accuracy_score\n",
    "acc_knn = accuracy_score(y_test,y_pred_knn)\n",
    "\n",
    "from sklearn.metrics import classification_report\n",
    "cr_knn = classification_report(y_test,y_pred_knn)\n",
    "\n",
    "from sklearn.metrics import confusion_matrix\n",
    "cm_knn = confusion_matrix(y_test,y_pred_knn)\n",
    "\n",
    "print('From KNeighbours strategy');\n",
    "print('Accuracy score:',acc_knn)\n",
    "print('Classification report',cr_knn)\n",
    "print('Confusion matrix',cm_knn)"
   ]
  },
  {
   "cell_type": "code",
   "execution_count": null,
   "metadata": {},
   "outputs": [],
   "source": [
    "# random forest classifier not executing due to hardware limitations and huge dataset , hence accuracy score through random forest not taken into \n",
    "# account for comparision\n",
    "'''\n",
    "#random forest classifier \n",
    "from sklearn.ensemble import RandomForestClassifier\n",
    "forest = RandomForestClassifier(n_estimators = 10000, random_state = 0)\n",
    "forest.fit(x_train,y_train)\n",
    "y_pred_forest = forest.predict(x_test)\n",
    "\n",
    "from sklearn.metrics import accuracy_score\n",
    "acc_forest = accuracy_score(y_test,y_pred_forest)\n",
    "\n",
    "from sklearn.metrics import classification_report\n",
    "cr_forest = classification_report(y_test,y_pred_forest)\n",
    "\n",
    "from sklearn.metrics import confusion_matrix\n",
    "cm_forest = confusion_matrix(y_test,y_pred_forest)\n",
    "\n",
    "print('From Random Forest Classifier strategy');\n",
    "print('Accuracy score:',acc_forest)\n",
    "print('Classification report',cr_forest)\n",
    "print('Confusion matrix',cm_forest)\n",
    "\n",
    "'''"
   ]
  },
  {
   "cell_type": "code",
   "execution_count": 35,
   "metadata": {},
   "outputs": [
    {
     "name": "stdout",
     "output_type": "stream",
     "text": [
      "                                 0\n",
      "Perceptron                0.292683\n",
      "Logistic Regression       0.404343\n",
      "Decision Tree Classifier  0.705863\n",
      "KNeighbors                0.950458\n"
     ]
    },
    {
     "data": {
      "image/png": "[encoded data removed]",
      "text/plain": [
       "<Figure size 432x288 with 1 Axes>"
      ]
     },
     "metadata": {
      "needs_background": "light"
     },
     "output_type": "display_data"
    }
   ],
   "source": [
    "################################################ Comparision of accuracy scores by different models ########################################\n",
    "from matplotlib import pyplot as plt\n",
    "acc_name = ['Perceptron','Logistic Regression','Decision Tree Classifier','KNeighbors'] # list of names of different models used\n",
    "acc = [acc_ppn,acc_lr,acc_dtc,acc_knn] # creating a list of accuracy scores of above models\n",
    "df_acc = pd.DataFrame(acc,acc_name)\n",
    "print(df_acc) # printing an index for the line plot\n",
    "\n",
    "plt.plot(acc) # a line graph has been plotted showing the growth of accuracy score by different strategies as shown in the index \n",
    "plt.xlabel('Accuracies by different strategies')\n",
    "plt.ylabel('Accuracy in %')\n",
    "plt.show()"
   ]
  }
 ],
 "metadata": {
  "kernelspec": {
   "display_name": "Python 3",
   "language": "python",
   "name": "python3"
  },
  "language_info": {
   "codemirror_mode": {
    "name": "ipython",
    "version": 3
   },
   "file_extension": ".py",
   "mimetype": "text/x-python",
   "name": "python",
   "nbconvert_exporter": "python",
   "pygments_lexer": "ipython3",
   "version": "3.7.0"
  }
 },
 "nbformat": 4,
 "nbformat_minor": 2
}
